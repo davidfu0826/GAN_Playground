{
 "cells": [
  {
   "cell_type": "code",
   "execution_count": 1,
   "id": "f3978ddc",
   "metadata": {},
   "outputs": [],
   "source": [
    "import os, time\n",
    "from IPython import display\n",
    "\n",
    "import matplotlib.pyplot as plt\n",
    "import tensorflow as tf\n",
    "import tensorflow.keras.layers as layers\n",
    "from tqdm.notebook import tqdm"
   ]
  },
  {
   "cell_type": "code",
   "execution_count": 2,
   "id": "c200e2ac",
   "metadata": {},
   "outputs": [],
   "source": [
    "#import neptune.new as neptune\n",
    "#run = neptune.init(project='davidfu0826/GANPlayground')"
   ]
  },
  {
   "cell_type": "code",
   "execution_count": 3,
   "id": "30c16788",
   "metadata": {},
   "outputs": [],
   "source": [
    "PATH_TO_IMAGES = \"../../Dataset/NewGazeData/*/*.jpg\"\n",
    "EPOCHS = 100\n",
    "BATCH_SIZE = 256\n",
    "\n",
    "#run[\"JIRA\"] = \"NPT-952\"\n",
    "#run[\"algorithm\"] = \"ConvNet\"\n",
    "\n",
    "params = {\n",
    "    \"dataset\": PATH_TO_IMAGES,\n",
    "    \"batch_size\": BATCH_SIZE,\n",
    "    \"epochs\": EPOCHS,\n",
    "    \"optimizer\": \"Adam\"\n",
    "}\n",
    "#run[\"parameters\"] = params"
   ]
  },
  {
   "cell_type": "markdown",
   "id": "86eaef72",
   "metadata": {},
   "source": [
    "# Simple tf.data pipeline"
   ]
  },
  {
   "cell_type": "code",
   "execution_count": 4,
   "id": "ba70f8c3",
   "metadata": {},
   "outputs": [],
   "source": [
    "#@tf.function\n",
    "def read_files(file_path):\n",
    "    img = tf.io.read_file(file_path)\n",
    "    img = tf.image.decode_jpeg(img)\n",
    "    return img\n",
    "\n",
    "#@tf.function\n",
    "def preprocess_input(img):\n",
    "    img = tf.image.resize(img, (4, 4))\n",
    "    img = (img - 127.5) / 127.5\n",
    "    return img"
   ]
  },
  {
   "cell_type": "code",
   "execution_count": 5,
   "id": "6caa4d68",
   "metadata": {},
   "outputs": [],
   "source": [
    "list_ds = tf.data.Dataset.list_files(PATH_TO_IMAGES)\n",
    "list_ds = list_ds.shuffle(buffer_size=len(list_ds), reshuffle_each_iteration=True)\n",
    "list_ds = list_ds.map(read_files)\n",
    "list_ds = list_ds.map(preprocess_input)"
   ]
  },
  {
   "cell_type": "code",
   "execution_count": 6,
   "id": "8c594525",
   "metadata": {},
   "outputs": [
    {
     "name": "stderr",
     "output_type": "stream",
     "text": [
      "Clipping input data to the valid range for imshow with RGB data ([0..1] for floats or [0..255] for integers).\n"
     ]
    },
    {
     "data": {
      "image/png": "[encoded data removed]",
      "text/plain": [
       "<Figure size 432x288 with 1 Axes>"
      ]
     },
     "metadata": {
      "needs_background": "light"
     },
     "output_type": "display_data"
    }
   ],
   "source": [
    "for img in list_ds.take(1):\n",
    "    pass\n",
    "plt.figure()\n",
    "plt.imshow(img)\n",
    "\n",
    "title = f\"Min: {img.numpy().min()}, Max: {img.numpy().max()}\"\n",
    "plt.title(title)\n",
    "plt.show()"
   ]
  },
  {
   "cell_type": "code",
   "execution_count": 7,
   "id": "1b426531",
   "metadata": {},
   "outputs": [],
   "source": [
    "list_ds = list_ds.batch(BATCH_SIZE)#tf.data.AUTOTUNE)\n",
    "list_ds = list_ds.prefetch(buffer_size=-1)#tf.data.AUTOTUNE)"
   ]
  },
  {
   "cell_type": "markdown",
   "id": "790e4a9a",
   "metadata": {},
   "source": [
    "# Simple GAN"
   ]
  },
  {
   "cell_type": "markdown",
   "id": "fb39b659",
   "metadata": {},
   "source": [
    "## Simple Generator"
   ]
  },
  {
   "cell_type": "code",
   "execution_count": 8,
   "id": "64293738",
   "metadata": {},
   "outputs": [],
   "source": [
    "def make_generator_model():\n",
    "    model = tf.keras.Sequential()\n",
    "    model.add(layers.Dense(4*4*256, use_bias=False, input_shape=(100,)))\n",
    "    model.add(layers.BatchNormalization())\n",
    "    model.add(layers.LeakyReLU())\n",
    "\n",
    "    model.add(layers.Reshape((4, 4, 256)))\n",
    "    assert model.output_shape == (None, 4, 4, 256)  # Note: None is the batch size\n",
    "    \n",
    "    model.add(layers.Conv2DTranspose(3, (5, 5), strides=(1, 1), padding='same', use_bias=False, activation='tanh'))\n",
    "    assert model.output_shape == (None, 4, 4, 3)\n",
    "\n",
    "    #model.add(layers.Conv2DTranspose(128, (5, 5), strides=(1, 1), padding='same', use_bias=False))\n",
    "    #assert model.output_shape == (None, 4, 4, 128)\n",
    "    #model.add(layers.BatchNormalization())\n",
    "    #model.add(layers.LeakyReLU())\n",
    "\n",
    "    #model.add(layers.Conv2DTranspose(64, (5, 5), strides=(2, 2), padding='same', use_bias=False))\n",
    "    #assert model.output_shape == (None, 8, 8, 64)\n",
    "    #model.add(layers.BatchNormalization())\n",
    "    #model.add(layers.LeakyReLU())\n",
    "\n",
    "    #model.add(layers.Conv2DTranspose(3, (5, 5), strides=(2, 2), padding='same', use_bias=False, activation='tanh'))\n",
    "    #assert model.output_shape == (None, 16, 16, 3)\n",
    "\n",
    "    return model"
   ]
  },
  {
   "cell_type": "code",
   "execution_count": 9,
   "id": "ff237125",
   "metadata": {},
   "outputs": [
    {
     "data": {
      "image/png": "[encoded data removed]",
      "text/plain": [
       "<Figure size 432x288 with 1 Axes>"
      ]
     },
     "metadata": {
      "needs_background": "light"
     },
     "output_type": "display_data"
    }
   ],
   "source": [
    "generator = make_generator_model()\n",
    "\n",
    "noise = tf.random.normal([1, 100])\n",
    "generated_image = generator(noise, training=False)\n",
    "\n",
    "plt.figure()\n",
    "plt.imshow(generated_image[0, :, :, 0], cmap='gray')\n",
    "title = f\"Image size: {generated_image.shape}\\nMin: {generated_image.numpy().min()}, \\nMax: {generated_image.numpy().max()}\" \n",
    "plt.title(title)\n",
    "plt.show()"
   ]
  },
  {
   "cell_type": "markdown",
   "id": "96de05f7",
   "metadata": {},
   "source": [
    "## Simple discriminator"
   ]
  },
  {
   "cell_type": "code",
   "execution_count": 10,
   "id": "a7dd12c5",
   "metadata": {},
   "outputs": [],
   "source": [
    "def make_discriminator_model():\n",
    "    model = tf.keras.Sequential()\n",
    "    model.add(layers.Conv2D(64, (5, 5), strides=(2, 2), padding='same',\n",
    "                                     input_shape=[4, 4, 3], name=\"01_conv2d\"))\n",
    "    model.add(layers.LeakyReLU())\n",
    "    model.add(layers.Dropout(0.3))\n",
    "\n",
    "    model.add(layers.Conv2D(128, (5, 5), strides=(2, 2), padding='same', name=\"02_conv2d\"))\n",
    "    model.add(layers.LeakyReLU())\n",
    "    model.add(layers.Dropout(0.3))\n",
    "\n",
    "    model.add(layers.Flatten())\n",
    "    model.add(layers.Dense(1, name=\"logits\"))\n",
    "\n",
    "    return model"
   ]
  },
  {
   "cell_type": "code",
   "execution_count": 11,
   "id": "44298d01",
   "metadata": {},
   "outputs": [
    {
     "name": "stdout",
     "output_type": "stream",
     "text": [
      "tf.Tensor([[-0.00162383]], shape=(1, 1), dtype=float32)\n"
     ]
    }
   ],
   "source": [
    "discriminator = make_discriminator_model()\n",
    "decision = discriminator(generated_image)\n",
    "print (decision)"
   ]
  },
  {
   "cell_type": "markdown",
   "id": "dd840026",
   "metadata": {},
   "source": [
    "# Loss and optimizer"
   ]
  },
  {
   "cell_type": "code",
   "execution_count": 12,
   "id": "71220933",
   "metadata": {},
   "outputs": [],
   "source": [
    "# This method returns a helper function to compute cross entropy loss\n",
    "cross_entropy = tf.keras.losses.BinaryCrossentropy(from_logits=True)"
   ]
  },
  {
   "cell_type": "markdown",
   "id": "fda58b17",
   "metadata": {},
   "source": [
    "## Discriminator loss"
   ]
  },
  {
   "cell_type": "code",
   "execution_count": 13,
   "id": "d599fe24",
   "metadata": {},
   "outputs": [],
   "source": [
    "def discriminator_loss(real_output, fake_output):\n",
    "    real_loss = cross_entropy(tf.ones_like(real_output), real_output)\n",
    "    fake_loss = cross_entropy(tf.zeros_like(fake_output), fake_output)\n",
    "    total_loss = real_loss + fake_loss\n",
    "    return total_loss"
   ]
  },
  {
   "cell_type": "markdown",
   "id": "06b93c34",
   "metadata": {},
   "source": [
    "## Generator loss"
   ]
  },
  {
   "cell_type": "code",
   "execution_count": 14,
   "id": "18150715",
   "metadata": {},
   "outputs": [],
   "source": [
    "def generator_loss(fake_output):\n",
    "    return cross_entropy(tf.ones_like(fake_output), fake_output)"
   ]
  },
  {
   "cell_type": "code",
   "execution_count": 15,
   "id": "ef298dc4",
   "metadata": {},
   "outputs": [],
   "source": [
    "generator_optimizer = tf.keras.optimizers.Adam(1e-4)\n",
    "discriminator_optimizer = tf.keras.optimizers.Adam(1e-4)"
   ]
  },
  {
   "cell_type": "markdown",
   "id": "6013dc2f",
   "metadata": {},
   "source": [
    "# Training loop"
   ]
  },
  {
   "cell_type": "code",
   "execution_count": 16,
   "id": "43ec606a",
   "metadata": {},
   "outputs": [],
   "source": [
    "noise_dim = 100\n",
    "num_examples_to_generate = 16\n",
    "\n",
    "# You will reuse this seed overtime (so it's easier)\n",
    "# to visualize progress in the animated GIF)\n",
    "seed = tf.random.normal([num_examples_to_generate, noise_dim])"
   ]
  },
  {
   "cell_type": "code",
   "execution_count": 17,
   "id": "b4c071b2",
   "metadata": {},
   "outputs": [],
   "source": [
    "# Notice the use of `tf.function`\n",
    "# This annotation causes the function to be \"compiled\".\n",
    "@tf.function\n",
    "def train_step(images):\n",
    "    noise = tf.random.normal([BATCH_SIZE, noise_dim])\n",
    "\n",
    "    with tf.GradientTape() as gen_tape, tf.GradientTape() as disc_tape:\n",
    "        generated_images = generator(noise, training=True)\n",
    "\n",
    "        real_output = discriminator(images, training=True)\n",
    "        fake_output = discriminator(generated_images, training=True)\n",
    "\n",
    "        gen_loss = generator_loss(fake_output)\n",
    "        disc_loss = discriminator_loss(real_output, fake_output)\n",
    "\n",
    "    gradients_of_generator = gen_tape.gradient(gen_loss, generator.trainable_variables)\n",
    "    gradients_of_discriminator = disc_tape.gradient(disc_loss, discriminator.trainable_variables)\n",
    "\n",
    "    generator_optimizer.apply_gradients(zip(gradients_of_generator, generator.trainable_variables))\n",
    "    discriminator_optimizer.apply_gradients(zip(gradients_of_discriminator, discriminator.trainable_variables))\n",
    "    \n",
    "    return gen_loss, disc_loss"
   ]
  },
  {
   "cell_type": "code",
   "execution_count": 18,
   "id": "54cdb199",
   "metadata": {},
   "outputs": [],
   "source": [
    "def train(dataset, epochs):\n",
    "    history = {\n",
    "        \"gen_loss\": list(),\n",
    "        \"disc_loss\": list()\n",
    "    }\n",
    "    for epoch in range(epochs):\n",
    "        start = time.time()\n",
    "\n",
    "        gen_losses = tf.keras.metrics.Mean('gen_loss', dtype=tf.float32)\n",
    "        disc_losses = tf.keras.metrics.Mean('disc_loss', dtype=tf.float32)\n",
    "        t_iter = tqdm(dataset)\n",
    "        for image_batch in t_iter:\n",
    "            gen_loss, disc_loss = train_step(image_batch)\n",
    "            gen_losses(gen_loss)\n",
    "            disc_losses(disc_loss)\n",
    "            t_iter.set_description(f\"G: {gen_losses.result()}, D: {disc_losses.result()}\")\n",
    "\n",
    "        # Produce images for the GIF as you go\n",
    "        display.clear_output(wait=True)\n",
    "        generate_and_save_images(generator,\n",
    "                                 epoch + 1,\n",
    "                                 seed)\n",
    "\n",
    "        # Save the model every 15 epochs\n",
    "        #if (epoch + 1) % 15 == 0:\n",
    "            #checkpoint.save(file_prefix = checkpoint_prefix)\n",
    "\n",
    "        #run[\"train/gen_loss\"].log(gen_losses.result())\n",
    "        #run[\"train/disc_loss\"].log(disc_losses.result())\n",
    "        history[\"gen_loss\"].append(gen_losses.result())\n",
    "        history[\"disc_loss\"].append(disc_losses.result())\n",
    "        \n",
    "        epoch_time = time.time()-start\n",
    "        #run[\"train/epoch_time\"].log(epoch_time)\n",
    "        print ('Time for epoch {} is {} sec'.format(epoch + 1, epoch_time))\n",
    "\n",
    "    # Generate after the final epoch\n",
    "    display.clear_output(wait=True)\n",
    "    generate_and_save_images(generator,\n",
    "                           epochs,\n",
    "                           seed)\n",
    "    return history"
   ]
  },
  {
   "cell_type": "code",
   "execution_count": 19,
   "id": "aa118c12",
   "metadata": {},
   "outputs": [],
   "source": [
    "def generate_and_save_images(model, epoch, test_input):\n",
    "    # Notice `training` is set to False.\n",
    "    # This is so all layers run in inference mode (batchnorm).\n",
    "    predictions = model(test_input, training=False)\n",
    "\n",
    "    fig = plt.figure(figsize=(4, 4))\n",
    "\n",
    "    for i in range(predictions.shape[0]):\n",
    "        plt.subplot(4, 4, i+1)\n",
    "        plt.imshow(predictions[i, :, :] * 127.5 + 127.5)\n",
    "        plt.axis('off')\n",
    "\n",
    "    plt.savefig('image_at_epoch_{:04d}.png'.format(epoch))\n",
    "    plt.show()"
   ]
  },
  {
   "cell_type": "code",
   "execution_count": 20,
   "id": "8a582482",
   "metadata": {},
   "outputs": [
    {
     "data": {
      "image/png": "[encoded data removed]",
      "text/plain": [
       "<Figure size 288x288 with 16 Axes>"
      ]
     },
     "metadata": {
      "needs_background": "light"
     },
     "output_type": "display_data"
    }
   ],
   "source": [
    "history = train(list_ds, params[\"epochs\"])"
   ]
  },
  {
   "cell_type": "code",
   "execution_count": 21,
   "id": "882c9a21",
   "metadata": {},
   "outputs": [
    {
     "data": {
      "image/png": "[encoded data removed]",
      "text/plain": [
       "<Figure size 432x288 with 1 Axes>"
      ]
     },
     "metadata": {
      "needs_background": "light"
     },
     "output_type": "display_data"
    }
   ],
   "source": [
    "import numpy as np\n",
    "\n",
    "plt.figure()\n",
    "plt.plot(history[\"gen_loss\"])\n",
    "plt.plot(history[\"disc_loss\"])\n",
    "plt.legend([\"gen_loss\", \"disc_loss\"])\n",
    "plt.axhline(np.mean(history[\"gen_loss\"][-10:]), linestyle=\"--\")\n",
    "plt.axhline(np.mean(history[\"disc_loss\"][-10:]), linestyle=\"--\")\n",
    "plt.show()"
   ]
  },
  {
   "cell_type": "code",
   "execution_count": 22,
   "id": "82470a3c",
   "metadata": {},
   "outputs": [],
   "source": [
    "import glob\n",
    "import imageio\n",
    "\n",
    "img_glob_path = \"*.png\"\n",
    "images = [imageio.imread(file_path) for file_path in glob.glob(img_glob_path)]\n",
    "imageio.mimwrite('movie.gif', images, fps=10)"
   ]
  },
  {
   "cell_type": "code",
   "execution_count": null,
   "id": "28aa3b63",
   "metadata": {},
   "outputs": [],
   "source": []
  }
 ],
 "metadata": {
  "kernelspec": {
   "display_name": "Python 3",
   "language": "python",
   "name": "python3"
  },
  "language_info": {
   "codemirror_mode": {
    "name": "ipython",
    "version": 3
   },
   "file_extension": ".py",
   "mimetype": "text/x-python",
   "name": "python",
   "nbconvert_exporter": "python",
   "pygments_lexer": "ipython3",
   "version": "3.8.8"
  }
 },
 "nbformat": 4,
 "nbformat_minor": 5
}
